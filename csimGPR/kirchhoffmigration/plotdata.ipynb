{
 "cells": [
  {
   "cell_type": "code",
   "execution_count": 3,
   "metadata": {},
   "outputs": [
    {
     "ename": "FileNotFoundError",
     "evalue": "[Errno 2] No such file or directory: 'SEIS-orig'",
     "output_type": "error",
     "traceback": [
      "\u001b[0;31m---------------------------------------------------------------------------\u001b[0m",
      "\u001b[0;31mFileNotFoundError\u001b[0m                         Traceback (most recent call last)",
      "Cell \u001b[0;32mIn[3], line 17\u001b[0m\n\u001b[1;32m     14\u001b[0m dcdp\u001b[39m=\u001b[39m\u001b[39m20\u001b[39m\n\u001b[1;32m     16\u001b[0m \u001b[39m# f = open('./data/SEIS-filt', 'r')\u001b[39;00m\n\u001b[0;32m---> 17\u001b[0m f \u001b[39m=\u001b[39m \u001b[39mopen\u001b[39;49m(\u001b[39m'\u001b[39;49m\u001b[39mSEIS-orig\u001b[39;49m\u001b[39m'\u001b[39;49m, \u001b[39m'\u001b[39;49m\u001b[39mr\u001b[39;49m\u001b[39m'\u001b[39;49m)\n\u001b[1;32m     18\u001b[0m \u001b[39m# read data in ieee754 format\u001b[39;00m\n\u001b[1;32m     19\u001b[0m inputs \u001b[39m=\u001b[39m np\u001b[39m.\u001b[39mfromfile(f, dtype\u001b[39m=\u001b[39mnp\u001b[39m.\u001b[39mfloat32)\n",
      "File \u001b[0;32m~/miniconda3/lib/python3.10/site-packages/IPython/core/interactiveshell.py:282\u001b[0m, in \u001b[0;36m_modified_open\u001b[0;34m(file, *args, **kwargs)\u001b[0m\n\u001b[1;32m    275\u001b[0m \u001b[39mif\u001b[39;00m file \u001b[39min\u001b[39;00m {\u001b[39m0\u001b[39m, \u001b[39m1\u001b[39m, \u001b[39m2\u001b[39m}:\n\u001b[1;32m    276\u001b[0m     \u001b[39mraise\u001b[39;00m \u001b[39mValueError\u001b[39;00m(\n\u001b[1;32m    277\u001b[0m         \u001b[39mf\u001b[39m\u001b[39m\"\u001b[39m\u001b[39mIPython won\u001b[39m\u001b[39m'\u001b[39m\u001b[39mt let you open fd=\u001b[39m\u001b[39m{\u001b[39;00mfile\u001b[39m}\u001b[39;00m\u001b[39m by default \u001b[39m\u001b[39m\"\u001b[39m\n\u001b[1;32m    278\u001b[0m         \u001b[39m\"\u001b[39m\u001b[39mas it is likely to crash IPython. If you know what you are doing, \u001b[39m\u001b[39m\"\u001b[39m\n\u001b[1;32m    279\u001b[0m         \u001b[39m\"\u001b[39m\u001b[39myou can use builtins\u001b[39m\u001b[39m'\u001b[39m\u001b[39m open.\u001b[39m\u001b[39m\"\u001b[39m\n\u001b[1;32m    280\u001b[0m     )\n\u001b[0;32m--> 282\u001b[0m \u001b[39mreturn\u001b[39;00m io_open(file, \u001b[39m*\u001b[39;49margs, \u001b[39m*\u001b[39;49m\u001b[39m*\u001b[39;49mkwargs)\n",
      "\u001b[0;31mFileNotFoundError\u001b[0m: [Errno 2] No such file or directory: 'SEIS-orig'"
     ]
    }
   ],
   "source": [
    "from kirchhoffmigration import PlotImg, full_migration, taper\n",
    "import numpy as np\n",
    "import matplotlib.pyplot as plt\n",
    "\n",
    "ntrc = 101\n",
    "noff = 5\n",
    "nsmp = 1001\n",
    "dt = 0.002\n",
    "offsets = np.array([0, 500, 1000, 1500, 2000])\n",
    "nz=300\n",
    "dx=20\n",
    "dz=10\n",
    "nx=1\n",
    "dcdp=20\n",
    "\n",
    "# f = open('./data/SEIS-filt', 'r')\n",
    "f = open('./data/SEIS-orig', 'r')\n",
    "# read data in ieee754 format\n",
    "inputs = np.fromfile(f, dtype=np.float32)\n",
    "# reshape\n",
    "data = inputs.reshape(noff,ntrc,nsmp)\n",
    "fig = plt.figure()\n",
    "\n",
    "colormap='gist_yarg'\n",
    "##########################\n",
    "#PlotImg(data,'unprocessed', 1001, colormap='gray', nx=1, nz=300, dt=0.002, dx=20, dz=10, dcdp=20, offsets=offsets)\n",
    "data2d = data.reshape(noff*ntrc, 1001)\n",
    "ax1 = fig.add_subplot(3, 1, 1)\n",
    "ax1.imshow(data2d.T, extent=[0,ntrc*dx*noff, nz*dz,0],cmap=colormap)\n",
    "# v_analysis(2000, 5000)\n",
    "# v_analysis results in v=2950 at a depth of z=1970\n",
    "\n",
    "migrated = full_migration(data, nx=1, nz=300, dt=0.002, dx=20, dz=10, dcdp=20, offsets=offsets)\n",
    "data2d = migrated.reshape(noff*ntrc, 300)\n",
    "ax2 = fig.add_subplot(3, 1, 2)\n",
    "ax2.imshow(data2d.T, extent=[0,ntrc*dx*noff, nz*dz,0],cmap=colormap)\n",
    "\n",
    "\n",
    "taperdata = taper(data)\n",
    "migrated = full_migration(taperdata, nx=1, nz=300, dt=0.002, dx=20, dz=10, dcdp=20, offsets=offsets)\n",
    "data2d = migrated.reshape(noff*ntrc, 300)\n",
    "ax3 = fig.add_subplot(3, 1, 3)\n",
    "ax3.imshow(data2d.T, extent=[0,ntrc*dx*noff, nz*dz,0],cmap=colormap)\n",
    "#PlotImg(migrated, 'migrated_data', 300, colormap='gray', nx=1, nz=300, dt=0.002, dx=20, dz=10, dcdp=20, offsets=offsets)\n",
    "\n",
    "\n",
    "# ## taper the data to reduce artifacts\n",
    "# taperdata = taper(data)\n",
    "# PlotImg(taperdata,'tapered_original_data', 1001)\n",
    "\n",
    "# migrated_tapered = full_migration(taperdata)\n",
    "# PlotImg(migrated_tapered, 'migrated_tapered_data', 300)\n",
    "\n",
    "###################################\n",
    "#benchmark()\n",
    "# PlotSpectrum(59)\n",
    "# zm = plot_zm()\n",
    "# check_amplitudes(data)\n"
   ]
  }
 ],
 "metadata": {
  "kernelspec": {
   "display_name": "Python 3",
   "language": "python",
   "name": "python3"
  },
  "language_info": {
   "codemirror_mode": {
    "name": "ipython",
    "version": 3
   },
   "file_extension": ".py",
   "mimetype": "text/x-python",
   "name": "python",
   "nbconvert_exporter": "python",
   "pygments_lexer": "ipython3",
   "version": "3.10.9"
  },
  "orig_nbformat": 4
 },
 "nbformat": 4,
 "nbformat_minor": 2
}
